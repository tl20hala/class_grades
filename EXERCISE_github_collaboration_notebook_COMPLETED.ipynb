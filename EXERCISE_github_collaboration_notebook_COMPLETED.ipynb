{
 "cells": [
  {
   "cell_type": "code",
   "execution_count": null,
   "metadata": {
    "collapsed": false
   },
   "outputs": [],
   "source": [
    "# Read in the data and pull out the grades\n",
    "\n",
    "from adas_code import read_data\n",
    "from babbages_code import statistics\n",
    "\n",
    "infile = \"grades0.csv\"\n",
    "\n",
    "grades = read_data(infile)\n",
    "\n",
    "print \"There are %d grades in this file.\" % (len(grades))\n",
    "\n",
    "mean,std,high_score,low_score = statistics(grades)\n",
    "\n",
    "print mean\n",
    "print std\n",
    "print high_score\n",
    "print low_score\n"
   ]
  },
  {
   "cell_type": "code",
   "execution_count": null,
   "metadata": {
    "collapsed": true
   },
   "outputs": [],
   "source": []
  }
 ],
 "metadata": {
  "kernelspec": {
   "display_name": "Python 2",
   "language": "python",
   "name": "python2"
  },
  "language_info": {
   "codemirror_mode": {
    "name": "ipython",
    "version": 2
   },
   "file_extension": ".py",
   "mimetype": "text/x-python",
   "name": "python",
   "nbconvert_exporter": "python",
   "pygments_lexer": "ipython2",
   "version": "2.7.10"
  }
 },
 "nbformat": 4,
 "nbformat_minor": 0
}
